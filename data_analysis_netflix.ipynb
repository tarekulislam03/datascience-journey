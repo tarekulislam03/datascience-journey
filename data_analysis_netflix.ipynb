{
 "cells": [
  {
   "cell_type": "code",
   "execution_count": 3,
   "id": "48815a94-79b1-4c1f-8ade-e5c1d11bad19",
   "metadata": {},
   "outputs": [],
   "source": [
    "import pandas as pd"
   ]
  },
  {
   "cell_type": "code",
   "execution_count": 4,
   "id": "93c80a9d-3c56-4381-8a11-ac4110bc84fc",
   "metadata": {},
   "outputs": [],
   "source": [
    "df = pd.read_csv(\"netflix_movies_detailed_up_to_2025.csv\")"
   ]
  },
  {
   "cell_type": "code",
   "execution_count": 9,
   "id": "7c34df2f-b6f1-4841-b04a-477b89566cc5",
   "metadata": {},
   "outputs": [],
   "source": [
    "df2 = df.sort_values(\"revenue\", ascending=False)\n",
    "df_new = df2.head(10)\n",
    "rev = df_new[\"revenue\"]"
   ]
  },
  {
   "cell_type": "code",
   "execution_count": 10,
   "id": "e970e95b-2191-4bc6-b276-60e70bde9b6b",
   "metadata": {},
   "outputs": [
    {
     "name": "stdout",
     "output_type": "stream",
     "text": [
      "Top 10 movies that earned highest revenue are\n",
      "--------------------------------\n",
      "Avengers: Endgame - 2.80B $\n",
      "Avatar: The Way of Water - 2.32B $\n",
      "Star Wars: The Force Awakens - 2.07B $\n",
      "Avengers: Infinity War - 2.05B $\n",
      "Ne Zha 2 - 1.99B $\n",
      "Spider-Man: No Way Home - 1.92B $\n",
      "Inside Out 2 - 1.70B $\n",
      "Jurassic World - 1.67B $\n",
      "The Lion King - 1.66B $\n",
      "The Avengers - 1.52B $\n"
     ]
    }
   ],
   "source": [
    "print(\"Top 10 movies that earned highest revenue are\\n--------------------------------\")\n",
    "for title,revenue in zip(df_new[\"title\"], df_new[\"revenue\"]):\n",
    "    print(f\"{title} - {revenue/1000000000:.2f}B $\")"
   ]
  },
  {
   "cell_type": "code",
   "execution_count": 21,
   "id": "e9e44a65-ea37-402d-818d-0ec7dfc18afc",
   "metadata": {},
   "outputs": [
    {
     "name": "stdout",
     "output_type": "stream",
     "text": [
      "release_year\n",
      "2025    1000\n",
      "2024    1000\n",
      "2023    1000\n",
      "2022    1000\n",
      "2021    1000\n",
      "2020    1000\n",
      "2019    1000\n",
      "2018    1000\n",
      "2017    1000\n",
      "2016    1000\n",
      "2015    1000\n",
      "2014    1000\n",
      "2013    1000\n",
      "2012    1000\n",
      "2011    1000\n",
      "2010    1000\n",
      "Name: count, dtype: int64\n"
     ]
    }
   ],
   "source": [
    "movies_per_year = df[\"release_year\"].value_counts().sort_index(ascending = False)\n",
    "print(f\"{movies_per_year}\")"
   ]
  },
  {
   "cell_type": "code",
   "execution_count": 35,
   "id": "4c72f94b-da09-462a-a908-6ddf5b8f6279",
   "metadata": {},
   "outputs": [
    {
     "name": "stdout",
     "output_type": "stream",
     "text": [
      "Top 10 genres ranked by number of movies made on each genre\n",
      "genres\n",
      "Drama               1336\n",
      "Comedy               776\n",
      "Documentary          587\n",
      "Drama, Romance       473\n",
      "Horror               391\n",
      "Comedy, Drama        389\n",
      "Horror, Thriller     356\n",
      "Comedy, Romance      242\n",
      "Romance              232\n",
      "Romance, Drama       230\n",
      "Name: count, dtype: int64\n"
     ]
    }
   ],
   "source": [
    "print(\"Top 10 genres ranked by number of movies made on each genre\")\n",
    "common_genres = df[\"genres\"].value_counts()\n",
    "print(common_genres.head(10))  # Top 10 genres"
   ]
  },
  {
   "cell_type": "code",
   "execution_count": 31,
   "id": "a23e98f6-6e0b-45d2-ab52-3f618446b257",
   "metadata": {},
   "outputs": [],
   "source": [
    "common_country =df[\"country\"].value_counts()"
   ]
  },
  {
   "cell_type": "code",
   "execution_count": 34,
   "id": "66ac2d25-8aaf-427a-af2d-d54c2a713f66",
   "metadata": {},
   "outputs": [
    {
     "name": "stdout",
     "output_type": "stream",
     "text": [
      "No. of movies per country top 10 ranking\n"
     ]
    },
    {
     "data": {
      "text/plain": [
       "country\n",
       "United States of America                    5421\n",
       "Japan                                        845\n",
       "South Korea                                  789\n",
       "France                                       612\n",
       "United Kingdom                               581\n",
       "India                                        419\n",
       "United Kingdom, United States of America     401\n",
       "Canada                                       348\n",
       "Canada, United States of America             338\n",
       "Spain                                        260\n",
       "Name: count, dtype: int64"
      ]
     },
     "execution_count": 34,
     "metadata": {},
     "output_type": "execute_result"
    }
   ],
   "source": [
    "print(\"No. of movies per country top 10 ranking\")\n",
    "common_country.head(10)"
   ]
  },
  {
   "cell_type": "code",
   "execution_count": null,
   "id": "ee98a6b0-443e-4b18-9ff3-4355586d05bd",
   "metadata": {},
   "outputs": [],
   "source": []
  },
  {
   "cell_type": "code",
   "execution_count": null,
   "id": "55122536-022b-40ba-a128-cb038a797424",
   "metadata": {},
   "outputs": [],
   "source": []
  },
  {
   "cell_type": "code",
   "execution_count": null,
   "id": "d0229fb3-4171-4656-9bf4-0287d3e8df36",
   "metadata": {},
   "outputs": [],
   "source": []
  },
  {
   "cell_type": "code",
   "execution_count": null,
   "id": "99cfe7a2-d89b-4c7d-af12-3b4e3bd9c4dc",
   "metadata": {},
   "outputs": [],
   "source": []
  }
 ],
 "metadata": {
  "kernelspec": {
   "display_name": "Python [conda env:base] *",
   "language": "python",
   "name": "conda-base-py"
  },
  "language_info": {
   "codemirror_mode": {
    "name": "ipython",
    "version": 3
   },
   "file_extension": ".py",
   "mimetype": "text/x-python",
   "name": "python",
   "nbconvert_exporter": "python",
   "pygments_lexer": "ipython3",
   "version": "3.13.5"
  }
 },
 "nbformat": 4,
 "nbformat_minor": 5
}
