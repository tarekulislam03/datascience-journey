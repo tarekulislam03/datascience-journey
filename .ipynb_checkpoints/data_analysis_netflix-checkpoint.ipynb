{
 "cells": [
  {
   "cell_type": "code",
   "execution_count": 3,
   "id": "48815a94-79b1-4c1f-8ade-e5c1d11bad19",
   "metadata": {},
   "outputs": [],
   "source": [
    "import pandas as pd"
   ]
  },
  {
   "cell_type": "code",
   "execution_count": 4,
   "id": "93c80a9d-3c56-4381-8a11-ac4110bc84fc",
   "metadata": {},
   "outputs": [],
   "source": [
    "df = pd.read_csv(\"netflix_movies_detailed_up_to_2025.csv\")"
   ]
  },
  {
   "cell_type": "code",
   "execution_count": 5,
   "id": "7c34df2f-b6f1-4841-b04a-477b89566cc5",
   "metadata": {},
   "outputs": [],
   "source": [
    "df2 = df.sort_values(\"revenue\", ascending=False)\n",
    "df_new = df2.head(10).copy()\n",
    "rev = df_new[\"revenue\"]"
   ]
  },
  {
   "cell_type": "code",
   "execution_count": 6,
   "id": "e970e95b-2191-4bc6-b276-60e70bde9b6b",
   "metadata": {},
   "outputs": [
    {
     "name": "stdout",
     "output_type": "stream",
     "text": [
      "Top 10 movies that earned highest revenue are\n",
      "--------------------------------\n",
      "Avengers: Endgame - 2.80B $\n",
      "Avatar: The Way of Water - 2.32B $\n",
      "Star Wars: The Force Awakens - 2.07B $\n",
      "Avengers: Infinity War - 2.05B $\n",
      "Ne Zha 2 - 1.99B $\n",
      "Spider-Man: No Way Home - 1.92B $\n",
      "Inside Out 2 - 1.70B $\n",
      "Jurassic World - 1.67B $\n",
      "The Lion King - 1.66B $\n",
      "The Avengers - 1.52B $\n"
     ]
    }
   ],
   "source": [
    "print(\"Top 10 movies that earned highest revenue are\\n--------------------------------\")\n",
    "for title,revenue in zip(df_new[\"title\"], df_new[\"revenue\"]):\n",
    "    print(f\"{title} - {revenue/1000000000:.2f}B $\")"
   ]
  },
  {
   "cell_type": "code",
   "execution_count": null,
   "id": "e9e44a65-ea37-402d-818d-0ec7dfc18afc",
   "metadata": {},
   "outputs": [],
   "source": []
  }
 ],
 "metadata": {
  "kernelspec": {
   "display_name": "Python [conda env:base] *",
   "language": "python",
   "name": "conda-base-py"
  },
  "language_info": {
   "codemirror_mode": {
    "name": "ipython",
    "version": 3
   },
   "file_extension": ".py",
   "mimetype": "text/x-python",
   "name": "python",
   "nbconvert_exporter": "python",
   "pygments_lexer": "ipython3",
   "version": "3.13.5"
  }
 },
 "nbformat": 4,
 "nbformat_minor": 5
}
