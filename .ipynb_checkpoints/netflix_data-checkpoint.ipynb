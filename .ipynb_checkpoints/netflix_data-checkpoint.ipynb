{
 "cells": [
  {
   "cell_type": "code",
   "execution_count": 1,
   "id": "b4bb0980-d2d5-405c-b41c-7a67d63be81b",
   "metadata": {},
   "outputs": [],
   "source": [
    "import pandas as pd"
   ]
  },
  {
   "cell_type": "code",
   "execution_count": 2,
   "id": "c1ddac3d-b869-4a72-bcb4-d40ddbde990e",
   "metadata": {},
   "outputs": [],
   "source": [
    "df = pd.read_csv(\"netflix_movies_detailed_up_to_2025.csv\")"
   ]
  },
  {
   "cell_type": "code",
   "execution_count": 44,
   "id": "7a1589cc-bb5e-4cab-a477-d84e488bc9fd",
   "metadata": {},
   "outputs": [],
   "source": [
    "df1 = df.query(\"rating==10\")"
   ]
  },
  {
   "cell_type": "code",
   "execution_count": 51,
   "id": "7429f837-1345-4aae-98a4-a0c77058d86a",
   "metadata": {},
   "outputs": [
    {
     "ename": "AttributeError",
     "evalue": "'DataFrame' object has no attribute 'to_frame'",
     "output_type": "error",
     "traceback": [
      "\u001b[1;31m---------------------------------------------------------------------------\u001b[0m",
      "\u001b[1;31mAttributeError\u001b[0m                            Traceback (most recent call last)",
      "\u001b[1;32m~\\AppData\\Local\\Temp\\ipykernel_285576\\3293697861.py\u001b[0m in \u001b[0;36m?\u001b[1;34m()\u001b[0m\n\u001b[0;32m      1\u001b[0m \u001b[0mdf1\u001b[0m\u001b[1;33m[\u001b[0m\u001b[1;34m'title'\u001b[0m\u001b[1;33m]\u001b[0m\u001b[1;33m\u001b[0m\u001b[1;33m\u001b[0m\u001b[0m\n\u001b[1;32m----> 2\u001b[1;33m \u001b[0mdf1\u001b[0m\u001b[1;33m.\u001b[0m\u001b[0mto_frame\u001b[0m\u001b[1;33m(\u001b[0m\u001b[1;33m)\u001b[0m\u001b[1;33m\u001b[0m\u001b[1;33m\u001b[0m\u001b[0m\n\u001b[0m",
      "\u001b[1;32m~\\anaconda3\\Lib\\site-packages\\pandas\\core\\generic.py\u001b[0m in \u001b[0;36m?\u001b[1;34m(self, name)\u001b[0m\n\u001b[0;32m   6295\u001b[0m             \u001b[1;32mand\u001b[0m \u001b[0mname\u001b[0m \u001b[1;32mnot\u001b[0m \u001b[1;32min\u001b[0m \u001b[0mself\u001b[0m\u001b[1;33m.\u001b[0m\u001b[0m_accessors\u001b[0m\u001b[1;33m\u001b[0m\u001b[1;33m\u001b[0m\u001b[0m\n\u001b[0;32m   6296\u001b[0m             \u001b[1;32mand\u001b[0m \u001b[0mself\u001b[0m\u001b[1;33m.\u001b[0m\u001b[0m_info_axis\u001b[0m\u001b[1;33m.\u001b[0m\u001b[0m_can_hold_identifiers_and_holds_name\u001b[0m\u001b[1;33m(\u001b[0m\u001b[0mname\u001b[0m\u001b[1;33m)\u001b[0m\u001b[1;33m\u001b[0m\u001b[1;33m\u001b[0m\u001b[0m\n\u001b[0;32m   6297\u001b[0m         \u001b[1;33m)\u001b[0m\u001b[1;33m:\u001b[0m\u001b[1;33m\u001b[0m\u001b[1;33m\u001b[0m\u001b[0m\n\u001b[0;32m   6298\u001b[0m             \u001b[1;32mreturn\u001b[0m \u001b[0mself\u001b[0m\u001b[1;33m[\u001b[0m\u001b[0mname\u001b[0m\u001b[1;33m]\u001b[0m\u001b[1;33m\u001b[0m\u001b[1;33m\u001b[0m\u001b[0m\n\u001b[1;32m-> 6299\u001b[1;33m         \u001b[1;32mreturn\u001b[0m \u001b[0mobject\u001b[0m\u001b[1;33m.\u001b[0m\u001b[0m__getattribute__\u001b[0m\u001b[1;33m(\u001b[0m\u001b[0mself\u001b[0m\u001b[1;33m,\u001b[0m \u001b[0mname\u001b[0m\u001b[1;33m)\u001b[0m\u001b[1;33m\u001b[0m\u001b[1;33m\u001b[0m\u001b[0m\n\u001b[0m",
      "\u001b[1;31mAttributeError\u001b[0m: 'DataFrame' object has no attribute 'to_frame'"
     ]
    }
   ],
   "source": [
    "df1['title']\n"
   ]
  },
  {
   "cell_type": "code",
   "execution_count": 43,
   "id": "c72f75f5-622c-43bf-8281-e611b4306783",
   "metadata": {},
   "outputs": [
    {
     "name": "stdout",
     "output_type": "stream",
     "text": [
      "The best series/movies which got rating of 10 are\n",
      "--------------------------------------------------------\n",
      " 862                     Inácio Garapa, Um Matuto Sonhador\n",
      "7348                                     The Photographer\n",
      "7371     An Unholy Affair: A Younger Man and a Busty Wife\n",
      "7384                                                   It\n",
      "8700                                 Swapping Guest House\n",
      "8972                               Youthful Mother-in-law\n",
      "9754                                   Nice Sister-In-Law\n",
      "9859                               Three Sisters Swapping\n",
      "10261                             Actresses: Sex Audition\n",
      "10381                                        The Shepherd\n",
      "10425                             Sincheon Station Exit 3\n",
      "10881                 Secret Night Of Mother And Daughter\n",
      "11092                            Dangerous Younger Cousin\n",
      "11890                                    Underpants Thief\n",
      "12309                                      Family Matters\n",
      "13105                                  TOGEFILM - Mei Mei\n",
      "13340                                              Salome\n",
      "14342                          El Apocalipsis de san Juan\n",
      "14625                                    Jailbreak Affair\n",
      "14752                                        The Williams\n",
      "14793                                              Balota\n",
      "14794                                               Marco\n",
      "15187                                   Queen of the Ring\n",
      "15280                                              Dragon\n",
      "15346                               The American Backyard\n",
      "15389                                Mere Husband Ki Biwi\n",
      "15439                                            The Kite\n",
      "15494                                         Close To Me\n",
      "15519                                            Red Silk\n",
      "15520                                    Hiram na Sandali\n",
      "15646                              Lore Of The Ring Light\n",
      "15792                                        The Crucifix\n",
      "15906                                           Butterfly\n",
      "15926                                F1 75 Live at The O2\n",
      "15956                                 The Wrong Obsession\n",
      "Name: title, dtype: object\n"
     ]
    }
   ],
   "source": [
    "print(f\"The best series/movies which got rating of 10 are\\n--------------------------------------------------------\\n {.to_frame()}\")"
   ]
  },
  {
   "cell_type": "code",
   "execution_count": null,
   "id": "06166ed3-3d48-4e13-ac5a-f3d87fa45d53",
   "metadata": {},
   "outputs": [],
   "source": []
  },
  {
   "cell_type": "code",
   "execution_count": null,
   "id": "50675bec-eca0-49b9-9368-308087cca2a2",
   "metadata": {},
   "outputs": [],
   "source": []
  },
  {
   "cell_type": "code",
   "execution_count": null,
   "id": "8094466e-644d-4d87-97af-fc6a10a749ff",
   "metadata": {},
   "outputs": [],
   "source": []
  },
  {
   "cell_type": "code",
   "execution_count": null,
   "id": "a1c537b9-acea-416f-971f-2aef7bf5aa45",
   "metadata": {},
   "outputs": [],
   "source": []
  }
 ],
 "metadata": {
  "kernelspec": {
   "display_name": "Python [conda env:base] *",
   "language": "python",
   "name": "conda-base-py"
  },
  "language_info": {
   "codemirror_mode": {
    "name": "ipython",
    "version": 3
   },
   "file_extension": ".py",
   "mimetype": "text/x-python",
   "name": "python",
   "nbconvert_exporter": "python",
   "pygments_lexer": "ipython3",
   "version": "3.13.5"
  }
 },
 "nbformat": 4,
 "nbformat_minor": 5
}
