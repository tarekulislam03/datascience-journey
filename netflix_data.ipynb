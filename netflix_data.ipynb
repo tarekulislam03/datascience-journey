{
 "cells": [
  {
   "cell_type": "code",
   "execution_count": 1,
   "id": "b4bb0980-d2d5-405c-b41c-7a67d63be81b",
   "metadata": {},
   "outputs": [],
   "source": [
    "import pandas as pd"
   ]
  },
  {
   "cell_type": "code",
   "execution_count": 2,
   "id": "c1ddac3d-b869-4a72-bcb4-d40ddbde990e",
   "metadata": {},
   "outputs": [],
   "source": [
    "df = pd.read_csv(\"netflix_movies_detailed_up_to_2025.csv\")"
   ]
  },
  {
   "cell_type": "code",
   "execution_count": 146,
   "id": "50675bec-eca0-49b9-9368-308087cca2a2",
   "metadata": {},
   "outputs": [],
   "source": [
    "#max revenue\n",
    "df3 = df['revenue']\n",
    "max_row = df.loc[df['revenue'].idxmax()]\n",
    "movies = max_row[\"title\"]\n",
    "max_rev = max_row[\"revenue\"]\n",
    "max_cast = max_row[\"cast\"]\n",
    "max_dir = max_row[\"director\"]\n",
    "max_rat = max_row[\"rating\"]\n",
    "max_budget = max_row[\"budget\"]\n",
    "max_rel = max_row[\"release_year\"]"
   ]
  },
  {
   "cell_type": "code",
   "execution_count": 145,
   "id": "68383905-a535-47b8-b5ac-03769e2f6d38",
   "metadata": {},
   "outputs": [
    {
     "name": "stdout",
     "output_type": "stream",
     "text": [
      "Insights of Most Revenued Movie till 2025\n",
      "-------------------------\n",
      "The movie/series made the most revenue is Avengers: Endgame, released on 2019\n",
      "The budget is 356000000$ and revenue is 2799439100$\n",
      "The casts are Robert Downey Jr., Chris Evans, Mark Ruffalo, Chris Hemsworth, Scarlett Johansson\n",
      "The director is/are Anthony Russo, Joe Russo\n",
      "The rating is 8.2\n"
     ]
    }
   ],
   "source": [
    "print(f\"Insights of Most Revenued Movie till 2025\\n-------------------------\\nThe movie/series made the most revenue is {movies}, released on {max_rel}\\nThe budget is {max_budget}$ and revenue is {max_rev}$\\nThe casts are {max_cast}\\nThe director is/are {max_dir}\\nThe rating is {max_rat}\")\n"
   ]
  }
 ],
 "metadata": {
  "kernelspec": {
   "display_name": "Python [conda env:base] *",
   "language": "python",
   "name": "conda-base-py"
  },
  "language_info": {
   "codemirror_mode": {
    "name": "ipython",
    "version": 3
   },
   "file_extension": ".py",
   "mimetype": "text/x-python",
   "name": "python",
   "nbconvert_exporter": "python",
   "pygments_lexer": "ipython3",
   "version": "3.13.5"
  }
 },
 "nbformat": 4,
 "nbformat_minor": 5
}
