{
 "cells": [
  {
   "cell_type": "code",
   "execution_count": 2,
   "id": "b4bb0980-d2d5-405c-b41c-7a67d63be81b",
   "metadata": {},
   "outputs": [],
   "source": [
    "import pandas as pd"
   ]
  },
  {
   "cell_type": "code",
   "execution_count": 3,
   "id": "c1ddac3d-b869-4a72-bcb4-d40ddbde990e",
   "metadata": {},
   "outputs": [],
   "source": [
    "df = pd.read_csv(\"netflix_movies_detailed_up_to_2025.csv\")"
   ]
  },
  {
   "cell_type": "code",
   "execution_count": 146,
   "id": "50675bec-eca0-49b9-9368-308087cca2a2",
   "metadata": {},
   "outputs": [],
   "source": [
    "#max revenue\n",
    "df3 = df['revenue']\n",
    "max_row = df.loc[df['revenue'].idxmax()]\n",
    "movies = max_row[\"title\"]\n",
    "max_rev = max_row[\"revenue\"]\n",
    "max_cast = max_row[\"cast\"]\n",
    "max_dir = max_row[\"director\"]\n",
    "max_rat = max_row[\"rating\"]\n",
    "max_budget = max_row[\"budget\"]\n",
    "max_rel = max_row[\"release_year\"]"
   ]
  },
  {
   "cell_type": "code",
   "execution_count": 145,
   "id": "68383905-a535-47b8-b5ac-03769e2f6d38",
   "metadata": {},
   "outputs": [
    {
     "name": "stdout",
     "output_type": "stream",
     "text": [
      "Insights of Most Revenued Movie till 2025\n",
      "-------------------------\n",
      "The movie/series made the most revenue is Avengers: Endgame, released on 2019\n",
      "The budget is 356000000$ and revenue is 2799439100$\n",
      "The casts are Robert Downey Jr., Chris Evans, Mark Ruffalo, Chris Hemsworth, Scarlett Johansson\n",
      "The director is/are Anthony Russo, Joe Russo\n",
      "The rating is 8.2\n"
     ]
    }
   ],
   "source": [
    "print(f\"Insights of Most Revenued Movie till 2025\\n-------------------------\\nThe movie/series made the most revenue is {movies}, released on {max_rel}\\nThe budget is {max_budget}$ and revenue is {max_rev}$\\nThe casts are {max_cast}\\nThe director is/are {max_dir}\\nThe rating is {max_rat}\")\n"
   ]
  },
  {
   "cell_type": "code",
   "execution_count": 42,
   "id": "03b8f6ea-e016-4ffa-be5c-06ebc3bde627",
   "metadata": {},
   "outputs": [],
   "source": [
    "df2 = df.sort_values(\"revenue\", ascending=False)"
   ]
  },
  {
   "cell_type": "code",
   "execution_count": 51,
   "id": "9220b4c7-029e-445d-bf5f-937face32530",
   "metadata": {},
   "outputs": [],
   "source": [
    "df_new = df2.head(10).copy()\n",
    "rev = df_new[\"revenue\"]"
   ]
  },
  {
   "cell_type": "code",
   "execution_count": 62,
   "id": "0a6c6af4-b766-4849-b326-f2ae34c143a2",
   "metadata": {},
   "outputs": [
    {
     "name": "stdout",
     "output_type": "stream",
     "text": [
      "Top 10 movies that earned highest revenue are\n",
      "--------------------------------\n",
      "Avengers: Endgame - 2.80B $\n",
      "Avatar: The Way of Water - 2.32B $\n",
      "Star Wars: The Force Awakens - 2.07B $\n",
      "Avengers: Infinity War - 2.05B $\n",
      "Ne Zha 2 - 1.99B $\n",
      "Spider-Man: No Way Home - 1.92B $\n",
      "Inside Out 2 - 1.70B $\n",
      "Jurassic World - 1.67B $\n",
      "The Lion King - 1.66B $\n",
      "The Avengers - 1.52B $\n"
     ]
    }
   ],
   "source": [
    "print(\"Top 10 movies that earned highest revenue are\\n--------------------------------\")\n",
    "for title, revenue in zip(df_new[\"title\"], df_new[\"revenue\"]):\n",
    "    print(f\"{title} - {revenue/1000000000:.2f}B $\")"
   ]
  },
  {
   "cell_type": "code",
   "execution_count": null,
   "id": "ba5c2e48-4dbe-4743-80af-d9271d0ba740",
   "metadata": {},
   "outputs": [],
   "source": []
  }
 ],
 "metadata": {
  "kernelspec": {
   "display_name": "Python [conda env:base] *",
   "language": "python",
   "name": "conda-base-py"
  },
  "language_info": {
   "codemirror_mode": {
    "name": "ipython",
    "version": 3
   },
   "file_extension": ".py",
   "mimetype": "text/x-python",
   "name": "python",
   "nbconvert_exporter": "python",
   "pygments_lexer": "ipython3",
   "version": "3.13.5"
  }
 },
 "nbformat": 4,
 "nbformat_minor": 5
}
