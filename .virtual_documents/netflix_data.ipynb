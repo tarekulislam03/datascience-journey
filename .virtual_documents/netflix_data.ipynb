import pandas as pd


df = pd.read_csv("netflix_movies_detailed_up_to_2025.csv")


#max revenue
df3 = df['revenue']
max_row = df.loc[df['revenue'].idxmax()]
movies = max_row["title"]
max_rev = max_row["revenue"]
max_cast = max_row["cast"]
max_dir = max_row["director"]
max_rat = max_row["rating"]
max_budget = max_row["budget"]
max_rel = max_row["release_year"]


print(f"Insights of Most Revenued Movie till 2025\n-------------------------\nThe movie/series made the most revenue is {movies}, released on {max_rel}\nThe budget is {max_budget}$ and revenue is {max_rev}$\nThe casts are {max_cast}\nThe director is/are {max_dir}\nThe rating is {max_rat}")



df2 = df.sort_values("revenue", ascending=False)


df_new = df2.head().copy()


for i in df_new:
    print(i)



