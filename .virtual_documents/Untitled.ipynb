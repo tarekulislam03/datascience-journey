import pandas as pd


df = pd.read_csv("netflix_movies_detailed_up_to_2025.csv")


df1 = df.query("rating==10")


print(f"The best series/movies which got rating of 10 are\n--------------------------------------------------------\n {.to_frame()}")












