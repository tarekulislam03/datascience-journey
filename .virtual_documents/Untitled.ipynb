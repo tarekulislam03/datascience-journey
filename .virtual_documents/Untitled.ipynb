import pandas as pd


s = pd.Series([34, 67, 87, 90], index= ["Tarik", "Nasu", "Ragib", "Naju"])


s


type(s)


data = {
    "name": ["Alice", "Bob", "Charlie"],
    "age": [25, 30, 35],
    "city": ["Delhi", "Mumbai", "Bangalore"]
}


df = pd.DataFrame(data)


df


type(df)


df = pd.read_csv("netflix_titles.csv")


df


df.head()


df.tail()



df.info()


df.describe()


df[["title","release_year","duration"]]


df.loc[67]


df.iloc[90]


df.at[916, "director"]


df[df['country']=="India"]["title"]


df.query("release_year > 2016")


df.query("country == 'India'")



